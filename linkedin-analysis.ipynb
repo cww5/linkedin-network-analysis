{
 "cells": [
  {
   "cell_type": "markdown",
   "metadata": {},
   "source": [
    "# LinkedIn Network Analysis\n",
    "## By Connor Watson\n",
    "### Original work done by Richard Cornelius Suwandi"
   ]
  },
  {
   "cell_type": "markdown",
   "metadata": {},
   "source": [
    "The original author identified some research questions:\n",
    "1. How many connections did I make on a given date?\n",
    "2. Which companies / organizations do the people in my network mainly come from?\n",
    "3. What are the top common positions of people in my network?\n",
    "\n",
    "I decided that I would not look at their code / charts / results as to not give any reason for me to \"copy\" their methodologies. One thing that is interesting for me is to see how our perspectives differ in terms of visualization design. How will my visualizations compare to theirs, without me having prior knowledge of what they produced?\n",
    "\n",
    "The main thing I saught out was the instructions to download the LinkedIn data, which I received from their article:\n",
    "* [Original article](https://l.facebook.com/l.php?u=https%3A%2F%2Ftowardsdatascience.com%2Fanalyzing-my-own-linkedin-data-24df63a9dc28%3Ffbclid%3DIwAR34pvMJb8O0BffGIeeJNaesFDjtdQrgRAeb_XoFjBK-4_9GEGwsbSt0tXk&h=AT0oXANgZiwrDC5fubeMSCQJEqnglfaKQFU5PADAi5J1MpkAXlccY3l-RJBGOIoG6K7yMj7au_wAlLL9oQ_uoJAq71lBG02k6uqFjBr94Om05Hhpuo1NRG__uIz5zgHomtyyrQ)\n",
    "* [Instructions](https://www.linkedin.com/help/linkedin/answer/50191/downloading-your-account-data?lang=en&fbclid=IwAR3ykJtZlfmMwqdPwzO6V9J0-dGV-fIdSqCH0CZEU7HZbNlamNLeIHfHYG4)\n",
    "\n",
    "To match the original analysis, I only downloaded \"Connections\" data, but now that I know about this feature, I will be sure to download more in the future."
   ]
  },
  {
   "cell_type": "code",
   "execution_count": null,
   "metadata": {},
   "outputs": [],
   "source": []
  },
  {
   "cell_type": "code",
   "execution_count": null,
   "metadata": {},
   "outputs": [],
   "source": []
  },
  {
   "cell_type": "code",
   "execution_count": null,
   "metadata": {},
   "outputs": [],
   "source": []
  }
 ],
 "metadata": {
  "kernelspec": {
   "display_name": "Python 3",
   "language": "python",
   "name": "python3"
  },
  "language_info": {
   "codemirror_mode": {
    "name": "ipython",
    "version": 3
   },
   "file_extension": ".py",
   "mimetype": "text/x-python",
   "name": "python",
   "nbconvert_exporter": "python",
   "pygments_lexer": "ipython3",
   "version": "3.8.3"
  }
 },
 "nbformat": 4,
 "nbformat_minor": 4
}
